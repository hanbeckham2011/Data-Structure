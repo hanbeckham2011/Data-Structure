{
 "cells": [
  {
   "cell_type": "code",
   "execution_count": 1,
   "id": "736c2677",
   "metadata": {},
   "outputs": [],
   "source": [
    "def anagram(s1,s2):\n",
    "    s1=s1.replace(' ','').lower()\n",
    "    s2=s2.replace(' ','').lower()\n",
    "    if len(s1) != len(s2):\n",
    "        return False\n",
    "    c={}\n",
    "    for x in s1:\n",
    "        if x in c:\n",
    "            c[x]+=1\n",
    "        else:\n",
    "            c[x]=1\n",
    "    for x in s2:\n",
    "        if x in c:\n",
    "            c[x]-=1\n",
    "        else:\n",
    "            c[x]=1\n",
    "    for l in c:\n",
    "        if c[l] != 0:\n",
    "            return False\n",
    "    return True    "
   ]
  },
  {
   "cell_type": "code",
   "execution_count": 4,
   "id": "52d2fdf8",
   "metadata": {},
   "outputs": [
    {
     "data": {
      "text/plain": [
       "True"
      ]
     },
     "execution_count": 4,
     "metadata": {},
     "output_type": "execute_result"
    }
   ],
   "source": [
    "anagram('clint eastwood','old west action')"
   ]
  },
  {
   "cell_type": "code",
   "execution_count": 25,
   "id": "98b75c97",
   "metadata": {},
   "outputs": [],
   "source": [
    "def pair_sum(arr,k):\n",
    "    if len(arr)<2:\n",
    "        return \n",
    "    l=set()\n",
    "    for i in range(len(arr)-1):\n",
    "        for j in range(i+1,len(arr)):\n",
    "            if arr[i]+arr[j]==k:\n",
    "                l.add((arr[i],arr[j]))\n",
    "    return len(l),l           "
   ]
  },
  {
   "cell_type": "code",
   "execution_count": 26,
   "id": "e2de107c",
   "metadata": {},
   "outputs": [
    {
     "data": {
      "text/plain": [
       "(3, {(6, 14), (7, 13), (9, 11)})"
      ]
     },
     "execution_count": 26,
     "metadata": {},
     "output_type": "execute_result"
    }
   ],
   "source": [
    "pair_sum([1,9,2,8,3,7,4,6,5,5,13,14,11,13,-1],20)"
   ]
  },
  {
   "cell_type": "code",
   "execution_count": 18,
   "id": "3a454587",
   "metadata": {},
   "outputs": [],
   "source": [
    "def pair_sum2(arr,k):\n",
    "    if len(arr)<2:\n",
    "        return\n",
    "    \n",
    "    seen=set()\n",
    "    output=set()\n",
    "    \n",
    "    for num in arr:\n",
    "        target=k-num\n",
    "        if target not in seen:\n",
    "            seen.add(num)\n",
    "        else:\n",
    "            output.add((num,target))\n",
    "    return list(output)       "
   ]
  },
  {
   "cell_type": "code",
   "execution_count": 21,
   "id": "e5297db3",
   "metadata": {},
   "outputs": [
    {
     "data": {
      "text/plain": [
       "[(13, 7), (11, 9), (14, 6)]"
      ]
     },
     "execution_count": 21,
     "metadata": {},
     "output_type": "execute_result"
    }
   ],
   "source": [
    "pair_sum2([1,9,2,8,3,7,4,6,5,5,13,14,11,13,-1],20)"
   ]
  },
  {
   "cell_type": "code",
   "execution_count": 14,
   "id": "3a163548",
   "metadata": {},
   "outputs": [],
   "source": [
    "def finder(arr1,arr2):\n",
    "    if len(arr1)-len(arr2) !=1:\n",
    "        return\n",
    "    l={}\n",
    "    for x in arr1:\n",
    "        if x in l:\n",
    "            l[x]+=1\n",
    "        else:\n",
    "            l[x]=1\n",
    "            \n",
    "    for y in arr2:\n",
    "        if y in l:\n",
    "            l[y]-=1\n",
    "        else:\n",
    "            l[y]=1\n",
    "    for z in l:\n",
    "        if l[z]==1:\n",
    "            return z\n"
   ]
  },
  {
   "cell_type": "code",
   "execution_count": 15,
   "id": "19d3a0bb",
   "metadata": {},
   "outputs": [
    {
     "data": {
      "text/plain": [
       "5"
      ]
     },
     "execution_count": 15,
     "metadata": {},
     "output_type": "execute_result"
    }
   ],
   "source": [
    "arr1 = [1,2,3,4,5,6,7]\n",
    "arr2 = [3,7,2,1,4,6]\n",
    "finder(arr1,arr2)"
   ]
  },
  {
   "cell_type": "code",
   "execution_count": 16,
   "id": "92750702",
   "metadata": {},
   "outputs": [
    {
     "data": {
      "text/plain": [
       "5"
      ]
     },
     "execution_count": 16,
     "metadata": {},
     "output_type": "execute_result"
    }
   ],
   "source": [
    "arr1 = [5,5,7,7]\n",
    "arr2 = [5,7,7]\n",
    "\n",
    "finder(arr1,arr2)"
   ]
  },
  {
   "cell_type": "code",
   "execution_count": 17,
   "id": "a3664533",
   "metadata": {},
   "outputs": [
    {
     "data": {
      "text/plain": [
       "6"
      ]
     },
     "execution_count": 17,
     "metadata": {},
     "output_type": "execute_result"
    }
   ],
   "source": [
    "finder([9,8,7,6,5,4,3,2,1],[9,8,7,5,4,3,2,1])"
   ]
  },
  {
   "cell_type": "code",
   "execution_count": 37,
   "id": "517ab9f9",
   "metadata": {},
   "outputs": [],
   "source": [
    "def find_missing(a, b):\n",
    "    for x in b:\n",
    "        a.remove(x)\n",
    "\n",
    "    return a[0]"
   ]
  },
  {
   "cell_type": "code",
   "execution_count": 38,
   "id": "3b7d51f3",
   "metadata": {},
   "outputs": [
    {
     "data": {
      "text/plain": [
       "6"
      ]
     },
     "execution_count": 38,
     "metadata": {},
     "output_type": "execute_result"
    }
   ],
   "source": [
    "find_missing([9,8,7,6,5,4,3,2,1],[9,8,7,5,4,3,2,1])"
   ]
  },
  {
   "cell_type": "code",
   "execution_count": 34,
   "id": "0a8f247f",
   "metadata": {},
   "outputs": [],
   "source": [
    "def finder2(arr1,arr2):\n",
    "    result=0\n",
    "    for num in arr1+arr2:\n",
    "        result^=num\n",
    "        \n",
    "    return result    \n",
    "\n"
   ]
  },
  {
   "cell_type": "code",
   "execution_count": 35,
   "id": "4472d506",
   "metadata": {},
   "outputs": [
    {
     "data": {
      "text/plain": [
       "5"
      ]
     },
     "execution_count": 35,
     "metadata": {},
     "output_type": "execute_result"
    }
   ],
   "source": [
    "finder2([5,5,7,7],[5,7,7])"
   ]
  },
  {
   "cell_type": "code",
   "execution_count": 36,
   "id": "22d277dd",
   "metadata": {},
   "outputs": [
    {
     "data": {
      "text/plain": [
       "6"
      ]
     },
     "execution_count": 36,
     "metadata": {},
     "output_type": "execute_result"
    }
   ],
   "source": [
    "finder2([9,8,7,6,5,4,3,2,1],[9,8,7,5,4,3,2,1])"
   ]
  },
  {
   "cell_type": "code",
   "execution_count": 100,
   "id": "768ded1d",
   "metadata": {},
   "outputs": [],
   "source": [
    "def large_cont_sum(arr): \n",
    "    s=0\n",
    "    d={}\n",
    "    for i in range(len(arr)):\n",
    "        s=s+arr[i]\n",
    "        d[arr[i]]=s\n",
    "    m=max(d.values())\n",
    "    k=max(d.keys())\n",
    "    return max(m,k)"
   ]
  },
  {
   "cell_type": "code",
   "execution_count": 105,
   "id": "124af7ff",
   "metadata": {},
   "outputs": [
    {
     "data": {
      "text/plain": [
       "9"
      ]
     },
     "execution_count": 105,
     "metadata": {},
     "output_type": "execute_result"
    }
   ],
   "source": [
    "large_cont_sum([1,2,-1,3,4,-1])"
   ]
  },
  {
   "cell_type": "code",
   "execution_count": 103,
   "id": "38352da0",
   "metadata": {},
   "outputs": [],
   "source": [
    "def large_cont_sum2(arr): \n",
    "    if len(arr)==0:\n",
    "        return\n",
    "    current_sum=max_sum=arr[0]\n",
    "    for num in arr[1:]:\n",
    "        current_sum=max(current_sum+num, num)\n",
    "        max_sum=max(current_sum, max_sum)\n",
    "        print('num is:',num,'current is:',current_sum,'max is:', max_sum)\n",
    "    return max_sum    "
   ]
  },
  {
   "cell_type": "code",
   "execution_count": 94,
   "id": "10fc51a3",
   "metadata": {},
   "outputs": [
    {
     "name": "stdout",
     "output_type": "stream",
     "text": [
      "num is: 1 current is: 1 max is: 1\n"
     ]
    },
    {
     "data": {
      "text/plain": [
       "1"
      ]
     },
     "execution_count": 94,
     "metadata": {},
     "output_type": "execute_result"
    }
   ],
   "source": [
    "large_cont_sum2([-1,1])"
   ]
  },
  {
   "cell_type": "code",
   "execution_count": 95,
   "id": "67eded79",
   "metadata": {},
   "outputs": [],
   "source": []
  },
  {
   "cell_type": "code",
   "execution_count": 80,
   "id": "60179860",
   "metadata": {},
   "outputs": [
    {
     "data": {
      "text/plain": [
       "29"
      ]
     },
     "execution_count": 80,
     "metadata": {},
     "output_type": "execute_result"
    }
   ],
   "source": []
  },
  {
   "cell_type": "code",
   "execution_count": null,
   "id": "fe7bcb9c",
   "metadata": {},
   "outputs": [],
   "source": []
  }
 ],
 "metadata": {
  "kernelspec": {
   "display_name": "Python 3 (ipykernel)",
   "language": "python",
   "name": "python3"
  },
  "language_info": {
   "codemirror_mode": {
    "name": "ipython",
    "version": 3
   },
   "file_extension": ".py",
   "mimetype": "text/x-python",
   "name": "python",
   "nbconvert_exporter": "python",
   "pygments_lexer": "ipython3",
   "version": "3.7.1"
  }
 },
 "nbformat": 4,
 "nbformat_minor": 5
}
