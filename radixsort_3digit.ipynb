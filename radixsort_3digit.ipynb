{
 "cells": [
  {
   "cell_type": "code",
   "execution_count": 180,
   "id": "334fdda3",
   "metadata": {},
   "outputs": [],
   "source": [
    "def countsort(arr, exp):\n",
    "    # initialization,buckets from -9 to 9, so 19 buckets\n",
    "    n = len(arr)\n",
    "    output = [0] * n\n",
    "    count = [0] * 19\n",
    "    \n",
    "    # count number of occurrance of each digits\n",
    "    # both positive and nagative numbers\n",
    "    # time complexity of the loop below is O(n)\n",
    "    for i in range(n):\n",
    "        if arr[i] < 0:\n",
    "            num = 9 - abs(arr[i]) // exp % 10\n",
    "            count[num] += 1\n",
    "        else:\n",
    "            num = arr[i] // exp % 10\n",
    "            count[num + 9] += 1\n",
    "      \n",
    "    # change count into the index of output for numbers in the array\n",
    "    # time complexity is O(1)*18 since j equals from 1 to 18\n",
    "    for j in range(1,19):\n",
    "        count[j] += count[j-1]\n",
    "   \n",
    "    # time complexity below is O(n), k runs from n-1 to 0\n",
    "    k = n-1\n",
    "    while k >= 0:\n",
    "        if arr[k] >= 0:\n",
    "            num = arr[k] // exp % 10\n",
    "            output[count[num + 9] - 1] = arr[k]\n",
    "            count[num + 9] -=1            \n",
    "        else:\n",
    "            num = 9 - abs(arr[k]) // exp % 10\n",
    "            output[count[num] - 1] = arr[k]\n",
    "            count[num] -=1        \n",
    "        k -= 1    \n",
    "\n",
    "    # time complexity below is O(n)\n",
    "    for l in range(n):\n",
    "        arr[l] = output[l]    \n",
    "    \n",
    "def RadixSort(arr):\n",
    "    # sort 3-digits numbers ex's value are 1,10 and 100 \n",
    "    # call function countsort 3 times\n",
    "    # so the time complexity is O(3*n), therefore, O(n)\n",
    "    for ex in (1, 10, 100):\n",
    "        countsort(arr, ex)   "
   ]
  },
  {
   "cell_type": "code",
   "execution_count": 182,
   "id": "678ccdc3",
   "metadata": {},
   "outputs": [
    {
     "name": "stdout",
     "output_type": "stream",
     "text": [
      "[-258, -111, 100, 105, 123, 173, 222, 227, 343, 421, 452, 890, 890, 959]\n"
     ]
    }
   ],
   "source": [
    "arr=[123,222,343,452,100,890,105,173,-258,421,-111,227,890,959]\n",
    "RadixSort(arr)\n",
    "print(arr)\n",
    "\n",
    "# RadixSore running linear time. For 3-digits integers sorting\n",
    "# the function countsort will run 3 times \n",
    "# countsort function runs linear time O(n)\n",
    "# therefore, the overall running linear time"
   ]
  }
 ],
 "metadata": {
  "kernelspec": {
   "display_name": "Python 3",
   "language": "python",
   "name": "python3"
  },
  "language_info": {
   "codemirror_mode": {
    "name": "ipython",
    "version": 3
   },
   "file_extension": ".py",
   "mimetype": "text/x-python",
   "name": "python",
   "nbconvert_exporter": "python",
   "pygments_lexer": "ipython3",
   "version": "3.8.8"
  }
 },
 "nbformat": 4,
 "nbformat_minor": 5
}
